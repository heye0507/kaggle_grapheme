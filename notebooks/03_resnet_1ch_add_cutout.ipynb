{
 "cells": [
  {
   "cell_type": "code",
   "execution_count": 1,
   "metadata": {},
   "outputs": [],
   "source": [
    "import torchvision.models as torch_models\n",
    "import os\n",
    "\n",
    "from helper import *"
   ]
  },
  {
   "cell_type": "code",
   "execution_count": 2,
   "metadata": {},
   "outputs": [],
   "source": [
    "path = Path('/home/jupyter/Kaggle/kaggle_grapheme')\n",
    "TRAIN_LABELS = path/'data/train.csv'\n",
    "TRAIN_IMG_FILES = path/'data/'\n",
    "\n",
    "RES34_PRETRAIN = path/'models/resnet/res34-stage1-pretrained-712'"
   ]
  },
  {
   "cell_type": "code",
   "execution_count": 3,
   "metadata": {},
   "outputs": [],
   "source": [
    "df_train = pd.read_csv(TRAIN_LABELS)"
   ]
  },
  {
   "cell_type": "code",
   "execution_count": 4,
   "metadata": {},
   "outputs": [
    {
     "data": {
      "text/html": [
       "<div>\n",
       "<style scoped>\n",
       "    .dataframe tbody tr th:only-of-type {\n",
       "        vertical-align: middle;\n",
       "    }\n",
       "\n",
       "    .dataframe tbody tr th {\n",
       "        vertical-align: top;\n",
       "    }\n",
       "\n",
       "    .dataframe thead th {\n",
       "        text-align: right;\n",
       "    }\n",
       "</style>\n",
       "<table border=\"1\" class=\"dataframe\">\n",
       "  <thead>\n",
       "    <tr style=\"text-align: right;\">\n",
       "      <th></th>\n",
       "      <th>image_id</th>\n",
       "      <th>grapheme_root</th>\n",
       "      <th>vowel_diacritic</th>\n",
       "      <th>consonant_diacritic</th>\n",
       "      <th>grapheme</th>\n",
       "    </tr>\n",
       "  </thead>\n",
       "  <tbody>\n",
       "    <tr>\n",
       "      <td>0</td>\n",
       "      <td>Train_0</td>\n",
       "      <td>15</td>\n",
       "      <td>9</td>\n",
       "      <td>5</td>\n",
       "      <td>ক্ট্রো</td>\n",
       "    </tr>\n",
       "    <tr>\n",
       "      <td>1</td>\n",
       "      <td>Train_1</td>\n",
       "      <td>159</td>\n",
       "      <td>0</td>\n",
       "      <td>0</td>\n",
       "      <td>হ</td>\n",
       "    </tr>\n",
       "    <tr>\n",
       "      <td>2</td>\n",
       "      <td>Train_2</td>\n",
       "      <td>22</td>\n",
       "      <td>3</td>\n",
       "      <td>5</td>\n",
       "      <td>খ্রী</td>\n",
       "    </tr>\n",
       "    <tr>\n",
       "      <td>3</td>\n",
       "      <td>Train_3</td>\n",
       "      <td>53</td>\n",
       "      <td>2</td>\n",
       "      <td>2</td>\n",
       "      <td>র্টি</td>\n",
       "    </tr>\n",
       "    <tr>\n",
       "      <td>4</td>\n",
       "      <td>Train_4</td>\n",
       "      <td>71</td>\n",
       "      <td>9</td>\n",
       "      <td>5</td>\n",
       "      <td>থ্রো</td>\n",
       "    </tr>\n",
       "  </tbody>\n",
       "</table>\n",
       "</div>"
      ],
      "text/plain": [
       "  image_id  grapheme_root  vowel_diacritic  consonant_diacritic grapheme\n",
       "0  Train_0             15                9                    5   ক্ট্রো\n",
       "1  Train_1            159                0                    0        হ\n",
       "2  Train_2             22                3                    5     খ্রী\n",
       "3  Train_3             53                2                    2     র্টি\n",
       "4  Train_4             71                9                    5     থ্রো"
      ]
     },
     "execution_count": 4,
     "metadata": {},
     "output_type": "execute_result"
    }
   ],
   "source": [
    "df_train.head()"
   ]
  },
  {
   "cell_type": "code",
   "execution_count": 5,
   "metadata": {},
   "outputs": [
    {
     "data": {
      "text/plain": [
       "image_id               200840\n",
       "grapheme_root             168\n",
       "vowel_diacritic            11\n",
       "consonant_diacritic         7\n",
       "grapheme                 1295\n",
       "dtype: int64"
      ]
     },
     "execution_count": 5,
     "metadata": {},
     "output_type": "execute_result"
    }
   ],
   "source": [
    "df_train.nunique()"
   ]
  },
  {
   "cell_type": "code",
   "execution_count": 5,
   "metadata": {},
   "outputs": [],
   "source": [
    "tfms = get_transforms(do_flip=False,max_rotate=40.,max_warp=0.,xtra_tfms=[cutout(p=0.5)]) # updated argumentation \n",
    "stats = ([0.0692], [0.2051])\n",
    "bs = 128"
   ]
  },
  {
   "cell_type": "code",
   "execution_count": 6,
   "metadata": {},
   "outputs": [],
   "source": [
    "data = (ImageList\n",
    "        .from_df(df_train,path=TRAIN_IMG_FILES,cols=0,convert_mode='L',suffix='.png')\n",
    "        .split_by_rand_pct(seed=42)\n",
    "        .label_from_df(cols=['grapheme_root','vowel_diacritic','consonant_diacritic'])\n",
    "        .transform(tfms,size=(128,128),padding_mode='zeros')\n",
    "        .databunch(bs=bs,num_workers=os.cpu_count()*4)\n",
    "        .normalize(stats)\n",
    "       )"
   ]
  },
  {
   "cell_type": "code",
   "execution_count": 11,
   "metadata": {},
   "outputs": [],
   "source": [
    "#data.show_batch(rows=3,figsize=(12,12))"
   ]
  },
  {
   "cell_type": "code",
   "execution_count": 7,
   "metadata": {},
   "outputs": [],
   "source": [
    "#Mish - \"Mish: A Self Regularized Non-Monotonic Neural Activation Function\"\n",
    "#https://arxiv.org/abs/1908.08681v1\n",
    "#implemented for PyTorch / FastAI by lessw2020 \n",
    "#github: https://github.com/lessw2020/mish\n",
    "class Mish(nn.Module):\n",
    "    def __init__(self):\n",
    "        super().__init__()\n",
    "\n",
    "    def forward(self, x):\n",
    "        #inlining this saves 1 second per epoch (V100 GPU) vs having a temp x and then returning x(!)\n",
    "        return x * (torch.tanh(F.softplus(x)))"
   ]
  },
  {
   "cell_type": "markdown",
   "metadata": {},
   "source": [
    "# Model \n",
    "\n",
    "1. Change the input conv_2d to take 1 channel grey scale image\n",
    "2. Transfer learning, copy first conv_2d weights to the new conv2d, aggregate 3 channel weights as suggested from stackoverflow / pytorch forum posts. (Note: Divide by 3 '(R+G+B)/3' does not have a effect if you think about back propogation, constant are just 1 ? However, I am not sure about the math)\n",
    "3. Multi - head: \n",
    "\n",
    "1. Inspired by APTOS and Retina net, it should be possible to output multi-results from the same backbone\n",
    "2. As suggested by DrHB https://www.kaggle.com/c/bengaliai-cv19/discussion/123432, the additional conv2d layer is to give each head a possibility to update weights before pooling\n",
    "3. Used AdaptiveConcatpool and standard fastai head structure\n",
    "4. Used Mish activatation function instead of ReLU"
   ]
  },
  {
   "cell_type": "code",
   "execution_count": 8,
   "metadata": {},
   "outputs": [],
   "source": [
    "class Model_Head(nn.Module):\n",
    "    def __init__(self,ni,nc,ps=0.25):\n",
    "        '''\n",
    "        ni : input filter size\n",
    "        nc : output class size\n",
    "        ps : dropout rate\n",
    "        '''\n",
    "        super().__init__()\n",
    "        layers = ([Mish(),conv2d(ni,ni),batchnorm_2d(ni),AdaptiveConcatPool2d(),Flatten()] \n",
    "                  + bn_drop_lin(ni*2,512,p=ps,actn=Mish()) \n",
    "                  + bn_drop_lin(512,nc,p=ps*2))\n",
    "        self.head = nn.Sequential(*layers)\n",
    "    \n",
    "    def forward(self,xb):\n",
    "        return self.head(xb)\n",
    "    \n",
    "class Resnet_1ch(nn.Module):\n",
    "    def __init__(self,arch,nc=[168,11,7],pretrained=True):\n",
    "        super().__init__()\n",
    "        self.body = nn.Sequential(*list(arch(pretrained=pretrained).children())[:-2])\n",
    "       \n",
    "        # change input filter size to 1\n",
    "        nf,ni,h,w = self.body[0].weight.shape\n",
    "        w = self.body[0].weight.sum(dim=1,keepdim=True)\n",
    "        conv_input = conv2d(1,nf,ks=h)\n",
    "        conv_input.weight.data = w\n",
    "        self.body[0] = conv_input\n",
    "        \n",
    "        # multi-head output\n",
    "        # 168,11,7 from num of unique labels\n",
    "        ni = num_features_model(self.body)\n",
    "        self.head_grapheme = Model_Head(ni,nc[0])\n",
    "        self.head_vowel = Model_Head(ni,nc[1])\n",
    "        self.head_consonant = Model_Head(ni,nc[2])\n",
    "    \n",
    "    def forward(self,x):\n",
    "        x = self.body(x)\n",
    "        return (self.head_grapheme(x),self.head_vowel(x),self.head_consonant(x))\n",
    "    \n",
    "# replace all relu layer with Mish        \n",
    "def to_mish(model):\n",
    "    for name,child in model.named_children():\n",
    "        if isinstance(child,nn.ReLU):\n",
    "            setattr(model,name,Mish())\n",
    "        else:\n",
    "            to_mish(child)"
   ]
  },
  {
   "cell_type": "code",
   "execution_count": 9,
   "metadata": {},
   "outputs": [],
   "source": [
    "class Loss_multi_head(nn.Module):\n",
    "    def __init__(self,weights=[1,1,1]):\n",
    "        super().__init__()\n",
    "        self.weights = weights\n",
    "        \n",
    "    def forward(self,preds,target,reduction='mean'):\n",
    "        outp_1,outp_2,outp_3 = preds\n",
    "        outp_1,outp_2,outp_3 = outp_1.float(),outp_2.float(),outp_3.float()\n",
    "        target = target.long()\n",
    "        return (\n",
    "            self.weights[0] * F.cross_entropy(outp_1,target[:,0],reduction=reduction) \n",
    "            + self.weights[1] * F.cross_entropy(outp_2,target[:,1],reduction=reduction) \n",
    "            + self.weights[2] * F.cross_entropy(outp_3,target[:,2],reduction=reduction)\n",
    "               )"
   ]
  },
  {
   "cell_type": "code",
   "execution_count": 10,
   "metadata": {},
   "outputs": [],
   "source": [
    "Metric_grapheme = partial(Metric_idx,0)\n",
    "Metric_vowel = partial(Metric_idx,1)\n",
    "Metric_consonant = partial(Metric_idx,2)"
   ]
  },
  {
   "cell_type": "code",
   "execution_count": 11,
   "metadata": {},
   "outputs": [],
   "source": [
    "model = Resnet_1ch(torch_models.resnet34)"
   ]
  },
  {
   "cell_type": "code",
   "execution_count": 12,
   "metadata": {},
   "outputs": [],
   "source": [
    "loss_func = Loss_multi_head([0.7,0.1,0.2])"
   ]
  },
  {
   "cell_type": "code",
   "execution_count": 13,
   "metadata": {},
   "outputs": [],
   "source": [
    "learn = Learner(data,model,loss_func=loss_func,\n",
    "                metrics=[Metric_grapheme(),Metric_vowel(),Metric_consonant(),Metric_tot()],\n",
    "                model_dir=path/'models/resnet').to_fp16()"
   ]
  },
  {
   "cell_type": "code",
   "execution_count": 14,
   "metadata": {},
   "outputs": [],
   "source": [
    "learn.split(lambda m: (m.body,m.head_grapheme));\n",
    "learn.freeze_to(-1);\n",
    "learn.to_fp16();"
   ]
  },
  {
   "cell_type": "code",
   "execution_count": 15,
   "metadata": {},
   "outputs": [
    {
     "data": {
      "text/html": [],
      "text/plain": [
       "<IPython.core.display.HTML object>"
      ]
     },
     "metadata": {},
     "output_type": "display_data"
    },
    {
     "name": "stdout",
     "output_type": "stream",
     "text": [
      "LR Finder is complete, type {learner_name}.recorder.plot() to see the graph.\n"
     ]
    }
   ],
   "source": [
    "learn.lr_find()"
   ]
  },
  {
   "cell_type": "code",
   "execution_count": 16,
   "metadata": {},
   "outputs": [
    {
     "name": "stdout",
     "output_type": "stream",
     "text": [
      "Min numerical gradient: 1.58E-02\n",
      "Min loss divided by 10: 4.79E-03\n"
     ]
    },
    {
     "data": {
      "image/png": "[encoded data removed]",
      "text/plain": [
       "<Figure size 432x288 with 1 Axes>"
      ]
     },
     "metadata": {
      "needs_background": "light"
     },
     "output_type": "display_data"
    }
   ],
   "source": [
    "learn.recorder.plot(suggestion=True)"
   ]
  },
  {
   "cell_type": "code",
   "execution_count": 17,
   "metadata": {},
   "outputs": [
    {
     "data": {
      "text/html": [
       "<table border=\"1\" class=\"dataframe\">\n",
       "  <thead>\n",
       "    <tr style=\"text-align: left;\">\n",
       "      <th>epoch</th>\n",
       "      <th>train_loss</th>\n",
       "      <th>valid_loss</th>\n",
       "      <th>metric_idx</th>\n",
       "      <th>metric_idx</th>\n",
       "      <th>metric_idx</th>\n",
       "      <th>metric_tot</th>\n",
       "      <th>time</th>\n",
       "    </tr>\n",
       "  </thead>\n",
       "  <tbody>\n",
       "    <tr>\n",
       "      <td>0</td>\n",
       "      <td>1.418144</td>\n",
       "      <td>0.882067</td>\n",
       "      <td>0.570923</td>\n",
       "      <td>0.852706</td>\n",
       "      <td>0.726223</td>\n",
       "      <td>0.680194</td>\n",
       "      <td>11:52</td>\n",
       "    </tr>\n",
       "    <tr>\n",
       "      <td>1</td>\n",
       "      <td>0.926873</td>\n",
       "      <td>0.495665</td>\n",
       "      <td>0.772006</td>\n",
       "      <td>0.912756</td>\n",
       "      <td>0.836317</td>\n",
       "      <td>0.823271</td>\n",
       "      <td>10:57</td>\n",
       "    </tr>\n",
       "    <tr>\n",
       "      <td>2</td>\n",
       "      <td>0.720021</td>\n",
       "      <td>0.366382</td>\n",
       "      <td>0.827680</td>\n",
       "      <td>0.939966</td>\n",
       "      <td>0.906909</td>\n",
       "      <td>0.875559</td>\n",
       "      <td>10:53</td>\n",
       "    </tr>\n",
       "    <tr>\n",
       "      <td>3</td>\n",
       "      <td>0.580855</td>\n",
       "      <td>0.288991</td>\n",
       "      <td>0.877711</td>\n",
       "      <td>0.955854</td>\n",
       "      <td>0.930578</td>\n",
       "      <td>0.910463</td>\n",
       "      <td>10:56</td>\n",
       "    </tr>\n",
       "    <tr>\n",
       "      <td>4</td>\n",
       "      <td>0.513095</td>\n",
       "      <td>0.269618</td>\n",
       "      <td>0.884433</td>\n",
       "      <td>0.954953</td>\n",
       "      <td>0.943583</td>\n",
       "      <td>0.916851</td>\n",
       "      <td>10:56</td>\n",
       "    </tr>\n",
       "  </tbody>\n",
       "</table>"
      ],
      "text/plain": [
       "<IPython.core.display.HTML object>"
      ]
     },
     "metadata": {},
     "output_type": "display_data"
    }
   ],
   "source": [
    "# weights 0.7 0.1 0.2 with rotate(10),no lighting and no cutout, zoom 1.1\n",
    "lr = 1e-2\n",
    "learn.fit_one_cycle(5,slice(lr))"
   ]
  },
  {
   "cell_type": "code",
   "execution_count": 18,
   "metadata": {},
   "outputs": [],
   "source": [
    "learn.save('res34-stage1-pretrained-712') # use it as pre-trained res34 model"
   ]
  },
  {
   "cell_type": "code",
   "execution_count": 19,
   "metadata": {},
   "outputs": [
    {
     "data": {
      "text/html": [],
      "text/plain": [
       "<IPython.core.display.HTML object>"
      ]
     },
     "metadata": {},
     "output_type": "display_data"
    },
    {
     "name": "stdout",
     "output_type": "stream",
     "text": [
      "LR Finder is complete, type {learner_name}.recorder.plot() to see the graph.\n"
     ]
    }
   ],
   "source": [
    "learn.unfreeze()\n",
    "learn.lr_find()"
   ]
  },
  {
   "cell_type": "code",
   "execution_count": 22,
   "metadata": {},
   "outputs": [
    {
     "name": "stdout",
     "output_type": "stream",
     "text": [
      "Min numerical gradient: 3.98E-06\n",
      "Min loss divided by 10: 4.79E-07\n"
     ]
    },
    {
     "data": {
      "image/png": "[encoded data removed]",
      "text/plain": [
       "<Figure size 432x288 with 1 Axes>"
      ]
     },
     "metadata": {
      "needs_background": "light"
     },
     "output_type": "display_data"
    }
   ],
   "source": [
    "learn.recorder.plot(suggestion=True)"
   ]
  },
  {
   "cell_type": "code",
   "execution_count": 20,
   "metadata": {},
   "outputs": [
    {
     "data": {
      "text/html": [
       "<table border=\"1\" class=\"dataframe\">\n",
       "  <thead>\n",
       "    <tr style=\"text-align: left;\">\n",
       "      <th>epoch</th>\n",
       "      <th>train_loss</th>\n",
       "      <th>valid_loss</th>\n",
       "      <th>metric_idx</th>\n",
       "      <th>metric_idx</th>\n",
       "      <th>metric_idx</th>\n",
       "      <th>metric_tot</th>\n",
       "      <th>time</th>\n",
       "    </tr>\n",
       "  </thead>\n",
       "  <tbody>\n",
       "    <tr>\n",
       "      <td>0</td>\n",
       "      <td>0.508303</td>\n",
       "      <td>0.268843</td>\n",
       "      <td>0.881558</td>\n",
       "      <td>0.957374</td>\n",
       "      <td>0.943898</td>\n",
       "      <td>0.916097</td>\n",
       "      <td>13:18</td>\n",
       "    </tr>\n",
       "    <tr>\n",
       "      <td>1</td>\n",
       "      <td>0.503102</td>\n",
       "      <td>0.262509</td>\n",
       "      <td>0.884260</td>\n",
       "      <td>0.955950</td>\n",
       "      <td>0.949669</td>\n",
       "      <td>0.918535</td>\n",
       "      <td>13:18</td>\n",
       "    </tr>\n",
       "    <tr>\n",
       "      <td>2</td>\n",
       "      <td>0.484213</td>\n",
       "      <td>0.257836</td>\n",
       "      <td>0.894631</td>\n",
       "      <td>0.956744</td>\n",
       "      <td>0.942585</td>\n",
       "      <td>0.922148</td>\n",
       "      <td>13:19</td>\n",
       "    </tr>\n",
       "    <tr>\n",
       "      <td>3</td>\n",
       "      <td>0.490407</td>\n",
       "      <td>0.250645</td>\n",
       "      <td>0.896045</td>\n",
       "      <td>0.956843</td>\n",
       "      <td>0.948700</td>\n",
       "      <td>0.924408</td>\n",
       "      <td>13:20</td>\n",
       "    </tr>\n",
       "    <tr>\n",
       "      <td>4</td>\n",
       "      <td>0.475706</td>\n",
       "      <td>0.244204</td>\n",
       "      <td>0.891908</td>\n",
       "      <td>0.959625</td>\n",
       "      <td>0.951422</td>\n",
       "      <td>0.923716</td>\n",
       "      <td>13:20</td>\n",
       "    </tr>\n",
       "    <tr>\n",
       "      <td>5</td>\n",
       "      <td>0.459323</td>\n",
       "      <td>0.232679</td>\n",
       "      <td>0.898197</td>\n",
       "      <td>0.961644</td>\n",
       "      <td>0.960155</td>\n",
       "      <td>0.929548</td>\n",
       "      <td>13:21</td>\n",
       "    </tr>\n",
       "    <tr>\n",
       "      <td>6</td>\n",
       "      <td>0.442722</td>\n",
       "      <td>0.228136</td>\n",
       "      <td>0.901789</td>\n",
       "      <td>0.960504</td>\n",
       "      <td>0.952455</td>\n",
       "      <td>0.929134</td>\n",
       "      <td>13:20</td>\n",
       "    </tr>\n",
       "    <tr>\n",
       "      <td>7</td>\n",
       "      <td>0.421150</td>\n",
       "      <td>0.218326</td>\n",
       "      <td>0.906428</td>\n",
       "      <td>0.964267</td>\n",
       "      <td>0.954299</td>\n",
       "      <td>0.932856</td>\n",
       "      <td>13:21</td>\n",
       "    </tr>\n",
       "    <tr>\n",
       "      <td>8</td>\n",
       "      <td>0.403666</td>\n",
       "      <td>0.213400</td>\n",
       "      <td>0.905010</td>\n",
       "      <td>0.963162</td>\n",
       "      <td>0.956771</td>\n",
       "      <td>0.932488</td>\n",
       "      <td>13:21</td>\n",
       "    </tr>\n",
       "    <tr>\n",
       "      <td>9</td>\n",
       "      <td>0.390811</td>\n",
       "      <td>0.205533</td>\n",
       "      <td>0.912880</td>\n",
       "      <td>0.965360</td>\n",
       "      <td>0.954240</td>\n",
       "      <td>0.936340</td>\n",
       "      <td>13:20</td>\n",
       "    </tr>\n",
       "    <tr>\n",
       "      <td>10</td>\n",
       "      <td>0.376708</td>\n",
       "      <td>0.202110</td>\n",
       "      <td>0.910785</td>\n",
       "      <td>0.966823</td>\n",
       "      <td>0.957354</td>\n",
       "      <td>0.936437</td>\n",
       "      <td>13:20</td>\n",
       "    </tr>\n",
       "    <tr>\n",
       "      <td>11</td>\n",
       "      <td>0.354851</td>\n",
       "      <td>0.196814</td>\n",
       "      <td>0.915528</td>\n",
       "      <td>0.967211</td>\n",
       "      <td>0.957673</td>\n",
       "      <td>0.938985</td>\n",
       "      <td>13:21</td>\n",
       "    </tr>\n",
       "    <tr>\n",
       "      <td>12</td>\n",
       "      <td>0.346505</td>\n",
       "      <td>0.195422</td>\n",
       "      <td>0.914344</td>\n",
       "      <td>0.968121</td>\n",
       "      <td>0.958491</td>\n",
       "      <td>0.938825</td>\n",
       "      <td>13:21</td>\n",
       "    </tr>\n",
       "    <tr>\n",
       "      <td>13</td>\n",
       "      <td>0.348611</td>\n",
       "      <td>0.195625</td>\n",
       "      <td>0.914244</td>\n",
       "      <td>0.967310</td>\n",
       "      <td>0.962287</td>\n",
       "      <td>0.939521</td>\n",
       "      <td>13:21</td>\n",
       "    </tr>\n",
       "    <tr>\n",
       "      <td>14</td>\n",
       "      <td>0.336570</td>\n",
       "      <td>0.195176</td>\n",
       "      <td>0.913871</td>\n",
       "      <td>0.968485</td>\n",
       "      <td>0.960150</td>\n",
       "      <td>0.939094</td>\n",
       "      <td>13:21</td>\n",
       "    </tr>\n",
       "  </tbody>\n",
       "</table>"
      ],
      "text/plain": [
       "<IPython.core.display.HTML object>"
      ]
     },
     "metadata": {},
     "output_type": "display_data"
    }
   ],
   "source": [
    "learn.fit_one_cycle(15,slice(1e-6,lr/5))"
   ]
  },
  {
   "cell_type": "code",
   "execution_count": 23,
   "metadata": {},
   "outputs": [
    {
     "data": {
      "text/html": [
       "<table border=\"1\" class=\"dataframe\">\n",
       "  <thead>\n",
       "    <tr style=\"text-align: left;\">\n",
       "      <th>epoch</th>\n",
       "      <th>train_loss</th>\n",
       "      <th>valid_loss</th>\n",
       "      <th>metric_idx</th>\n",
       "      <th>metric_idx</th>\n",
       "      <th>metric_idx</th>\n",
       "      <th>metric_tot</th>\n",
       "      <th>time</th>\n",
       "    </tr>\n",
       "  </thead>\n",
       "  <tbody>\n",
       "    <tr>\n",
       "      <td>0</td>\n",
       "      <td>0.317118</td>\n",
       "      <td>0.270335</td>\n",
       "      <td>0.879492</td>\n",
       "      <td>0.957281</td>\n",
       "      <td>0.950476</td>\n",
       "      <td>0.916685</td>\n",
       "      <td>13:12</td>\n",
       "    </tr>\n",
       "    <tr>\n",
       "      <td>1</td>\n",
       "      <td>0.285154</td>\n",
       "      <td>0.248343</td>\n",
       "      <td>0.889867</td>\n",
       "      <td>0.959840</td>\n",
       "      <td>0.941218</td>\n",
       "      <td>0.920198</td>\n",
       "      <td>13:10</td>\n",
       "    </tr>\n",
       "    <tr>\n",
       "      <td>2</td>\n",
       "      <td>0.273177</td>\n",
       "      <td>0.226586</td>\n",
       "      <td>0.898027</td>\n",
       "      <td>0.959028</td>\n",
       "      <td>0.955282</td>\n",
       "      <td>0.927591</td>\n",
       "      <td>13:11</td>\n",
       "    </tr>\n",
       "    <tr>\n",
       "      <td>3</td>\n",
       "      <td>0.234386</td>\n",
       "      <td>0.210849</td>\n",
       "      <td>0.907131</td>\n",
       "      <td>0.961403</td>\n",
       "      <td>0.955206</td>\n",
       "      <td>0.932718</td>\n",
       "      <td>13:07</td>\n",
       "    </tr>\n",
       "    <tr>\n",
       "      <td>4</td>\n",
       "      <td>0.191108</td>\n",
       "      <td>0.195052</td>\n",
       "      <td>0.913447</td>\n",
       "      <td>0.967579</td>\n",
       "      <td>0.957751</td>\n",
       "      <td>0.938056</td>\n",
       "      <td>13:06</td>\n",
       "    </tr>\n",
       "    <tr>\n",
       "      <td>5</td>\n",
       "      <td>0.165866</td>\n",
       "      <td>0.186090</td>\n",
       "      <td>0.919658</td>\n",
       "      <td>0.968590</td>\n",
       "      <td>0.963550</td>\n",
       "      <td>0.942864</td>\n",
       "      <td>13:06</td>\n",
       "    </tr>\n",
       "    <tr>\n",
       "      <td>6</td>\n",
       "      <td>0.152138</td>\n",
       "      <td>0.182373</td>\n",
       "      <td>0.921901</td>\n",
       "      <td>0.968069</td>\n",
       "      <td>0.967486</td>\n",
       "      <td>0.944839</td>\n",
       "      <td>13:07</td>\n",
       "    </tr>\n",
       "    <tr>\n",
       "      <td>7</td>\n",
       "      <td>0.117514</td>\n",
       "      <td>0.179024</td>\n",
       "      <td>0.924455</td>\n",
       "      <td>0.970505</td>\n",
       "      <td>0.966549</td>\n",
       "      <td>0.946491</td>\n",
       "      <td>13:12</td>\n",
       "    </tr>\n",
       "    <tr>\n",
       "      <td>8</td>\n",
       "      <td>0.113998</td>\n",
       "      <td>0.178479</td>\n",
       "      <td>0.924086</td>\n",
       "      <td>0.971992</td>\n",
       "      <td>0.965019</td>\n",
       "      <td>0.946296</td>\n",
       "      <td>13:07</td>\n",
       "    </tr>\n",
       "    <tr>\n",
       "      <td>9</td>\n",
       "      <td>0.109961</td>\n",
       "      <td>0.177174</td>\n",
       "      <td>0.925311</td>\n",
       "      <td>0.972214</td>\n",
       "      <td>0.964652</td>\n",
       "      <td>0.946872</td>\n",
       "      <td>13:07</td>\n",
       "    </tr>\n",
       "  </tbody>\n",
       "</table>"
      ],
      "text/plain": [
       "<IPython.core.display.HTML object>"
      ]
     },
     "metadata": {},
     "output_type": "display_data"
    }
   ],
   "source": [
    "learn.fit_one_cycle(10,slice(1e-5/2,lr/5))"
   ]
  },
  {
   "cell_type": "code",
   "execution_count": 24,
   "metadata": {},
   "outputs": [],
   "source": [
    "learn.save('resnet-stage-2-712')"
   ]
  },
  {
   "cell_type": "code",
   "execution_count": null,
   "metadata": {},
   "outputs": [],
   "source": []
  }
 ],
 "metadata": {
  "kernelspec": {
   "display_name": "Python 3",
   "language": "python",
   "name": "python3"
  },
  "language_info": {
   "codemirror_mode": {
    "name": "ipython",
    "version": 3
   },
   "file_extension": ".py",
   "mimetype": "text/x-python",
   "name": "python",
   "nbconvert_exporter": "python",
   "pygments_lexer": "ipython3",
   "version": "3.7.4"
  }
 },
 "nbformat": 4,
 "nbformat_minor": 2
}
