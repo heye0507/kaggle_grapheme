{
 "cells": [
  {
   "cell_type": "code",
   "execution_count": 1,
   "metadata": {},
   "outputs": [],
   "source": [
    "import torchvision.models as torch_models\n",
    "import os\n",
    "\n",
    "from helper import *"
   ]
  },
  {
   "cell_type": "code",
   "execution_count": 2,
   "metadata": {},
   "outputs": [],
   "source": [
    "path = Path('/home/jupyter/Kaggle/kaggle_grapheme')\n",
    "TRAIN_LABELS = path/'data/train.csv'\n",
    "TRAIN_IMG_FILES = path/'data/'"
   ]
  },
  {
   "cell_type": "code",
   "execution_count": 3,
   "metadata": {},
   "outputs": [],
   "source": [
    "df_train = pd.read_csv(TRAIN_LABELS)"
   ]
  },
  {
   "cell_type": "code",
   "execution_count": 4,
   "metadata": {},
   "outputs": [
    {
     "data": {
      "text/html": [
       "<div>\n",
       "<style scoped>\n",
       "    .dataframe tbody tr th:only-of-type {\n",
       "        vertical-align: middle;\n",
       "    }\n",
       "\n",
       "    .dataframe tbody tr th {\n",
       "        vertical-align: top;\n",
       "    }\n",
       "\n",
       "    .dataframe thead th {\n",
       "        text-align: right;\n",
       "    }\n",
       "</style>\n",
       "<table border=\"1\" class=\"dataframe\">\n",
       "  <thead>\n",
       "    <tr style=\"text-align: right;\">\n",
       "      <th></th>\n",
       "      <th>image_id</th>\n",
       "      <th>grapheme_root</th>\n",
       "      <th>vowel_diacritic</th>\n",
       "      <th>consonant_diacritic</th>\n",
       "      <th>grapheme</th>\n",
       "    </tr>\n",
       "  </thead>\n",
       "  <tbody>\n",
       "    <tr>\n",
       "      <td>0</td>\n",
       "      <td>Train_0</td>\n",
       "      <td>15</td>\n",
       "      <td>9</td>\n",
       "      <td>5</td>\n",
       "      <td>ক্ট্রো</td>\n",
       "    </tr>\n",
       "    <tr>\n",
       "      <td>1</td>\n",
       "      <td>Train_1</td>\n",
       "      <td>159</td>\n",
       "      <td>0</td>\n",
       "      <td>0</td>\n",
       "      <td>হ</td>\n",
       "    </tr>\n",
       "    <tr>\n",
       "      <td>2</td>\n",
       "      <td>Train_2</td>\n",
       "      <td>22</td>\n",
       "      <td>3</td>\n",
       "      <td>5</td>\n",
       "      <td>খ্রী</td>\n",
       "    </tr>\n",
       "    <tr>\n",
       "      <td>3</td>\n",
       "      <td>Train_3</td>\n",
       "      <td>53</td>\n",
       "      <td>2</td>\n",
       "      <td>2</td>\n",
       "      <td>র্টি</td>\n",
       "    </tr>\n",
       "    <tr>\n",
       "      <td>4</td>\n",
       "      <td>Train_4</td>\n",
       "      <td>71</td>\n",
       "      <td>9</td>\n",
       "      <td>5</td>\n",
       "      <td>থ্রো</td>\n",
       "    </tr>\n",
       "  </tbody>\n",
       "</table>\n",
       "</div>"
      ],
      "text/plain": [
       "  image_id  grapheme_root  vowel_diacritic  consonant_diacritic grapheme\n",
       "0  Train_0             15                9                    5   ক্ট্রো\n",
       "1  Train_1            159                0                    0        হ\n",
       "2  Train_2             22                3                    5     খ্রী\n",
       "3  Train_3             53                2                    2     র্টি\n",
       "4  Train_4             71                9                    5     থ্রো"
      ]
     },
     "execution_count": 4,
     "metadata": {},
     "output_type": "execute_result"
    }
   ],
   "source": [
    "df_train.head()"
   ]
  },
  {
   "cell_type": "code",
   "execution_count": 5,
   "metadata": {},
   "outputs": [
    {
     "data": {
      "text/plain": [
       "image_id               200840\n",
       "grapheme_root             168\n",
       "vowel_diacritic            11\n",
       "consonant_diacritic         7\n",
       "grapheme                 1295\n",
       "dtype: int64"
      ]
     },
     "execution_count": 5,
     "metadata": {},
     "output_type": "execute_result"
    }
   ],
   "source": [
    "df_train.nunique()"
   ]
  },
  {
   "cell_type": "code",
   "execution_count": 7,
   "metadata": {},
   "outputs": [],
   "source": [
    "tfms = get_transforms(do_flip=False,max_warp=0.,max_lighting=0.,p_lighting=0.)\n",
    "stats = ([0.0692], [0.2051])\n",
    "bs = 128"
   ]
  },
  {
   "cell_type": "code",
   "execution_count": 8,
   "metadata": {},
   "outputs": [],
   "source": [
    "data = (ImageList\n",
    "        .from_df(df_train,path=TRAIN_IMG_FILES,cols=0,convert_mode='L',suffix='.png')\n",
    "        .split_by_rand_pct(seed=42)\n",
    "        .label_from_df(cols=['grapheme_root','vowel_diacritic','consonant_diacritic'])\n",
    "        .transform(tfms,size=(128,128),padding_mode='zeros')\n",
    "        .databunch(bs=bs,num_workers=os.cpu_count()*4)\n",
    "        .normalize(stats)\n",
    "       )"
   ]
  },
  {
   "cell_type": "code",
   "execution_count": 11,
   "metadata": {},
   "outputs": [],
   "source": [
    "#data.show_batch(rows=3,figsize=(12,12))"
   ]
  },
  {
   "cell_type": "code",
   "execution_count": 9,
   "metadata": {},
   "outputs": [],
   "source": [
    "#Mish - \"Mish: A Self Regularized Non-Monotonic Neural Activation Function\"\n",
    "#https://arxiv.org/abs/1908.08681v1\n",
    "#implemented for PyTorch / FastAI by lessw2020 \n",
    "#github: https://github.com/lessw2020/mish\n",
    "class Mish(nn.Module):\n",
    "    def __init__(self):\n",
    "        super().__init__()\n",
    "\n",
    "    def forward(self, x):\n",
    "        #inlining this saves 1 second per epoch (V100 GPU) vs having a temp x and then returning x(!)\n",
    "        return x * (torch.tanh(F.softplus(x)))"
   ]
  },
  {
   "cell_type": "markdown",
   "metadata": {},
   "source": [
    "# Model \n",
    "\n",
    "1. Change the input conv_2d to take 1 channel grey scale image\n",
    "2. Transfer learning, copy first conv_2d weights to the new conv2d, aggregate 3 channel weights as suggested from stackoverflow / pytorch forum posts. (Note: Divide by 3 '(R+G+B)/3' does not have a effect if you think about back propogation, constant are just 1 ? However, I am not sure about the math)\n",
    "3. Multi - head: \n",
    "\n",
    "1. Inspired by APTOS and Retina net, it should be possible to output multi-results from the same backbone\n",
    "2. As suggested by DrHB https://www.kaggle.com/c/bengaliai-cv19/discussion/123432, the additional conv2d layer is to give each head a possibility to update weights before pooling\n",
    "3. Used AdaptiveConcatpool and standard fastai head structure\n",
    "4. Used Mish activatation function instead of ReLU"
   ]
  },
  {
   "cell_type": "code",
   "execution_count": 10,
   "metadata": {},
   "outputs": [],
   "source": [
    "class Model_Head(nn.Module):\n",
    "    def __init__(self,ni,nc,ps=0.25):\n",
    "        '''\n",
    "        ni : input filter size\n",
    "        nc : output class size\n",
    "        ps : dropout rate\n",
    "        '''\n",
    "        super().__init__()\n",
    "        layers = ([Mish(),conv2d(ni,ni),batchnorm_2d(ni),AdaptiveConcatPool2d(),Flatten()] \n",
    "                  + bn_drop_lin(ni*2,512,p=ps,actn=Mish()) \n",
    "                  + bn_drop_lin(512,nc,p=ps*2))\n",
    "        self.head = nn.Sequential(*layers)\n",
    "    \n",
    "    def forward(self,xb):\n",
    "        return self.head(xb)\n",
    "    \n",
    "class Resnet_1ch(nn.Module):\n",
    "    def __init__(self,arch,nc=[168,11,7],pretrained=True):\n",
    "        super().__init__()\n",
    "        self.body = nn.Sequential(*list(arch(pretrained=pretrained).children())[:-2])\n",
    "       \n",
    "        # change input filter size to 1\n",
    "        nf,ni,h,w = self.body[0].weight.shape\n",
    "        w = self.body[0].weight.sum(dim=1,keepdim=True)\n",
    "        conv_input = conv2d(1,nf,ks=h)\n",
    "        conv_input.weight.data = w\n",
    "        self.body[0] = conv_input\n",
    "        \n",
    "        # multi-head output\n",
    "        # 168,11,7 from num of unique labels\n",
    "        ni = num_features_model(self.body)\n",
    "        self.head_grapheme = Model_Head(ni,nc[0])\n",
    "        self.head_vowel = Model_Head(ni,nc[1])\n",
    "        self.head_consonant = Model_Head(ni,nc[2])\n",
    "    \n",
    "    def forward(self,x):\n",
    "        x = self.body(x)\n",
    "        return (self.head_grapheme(x),self.head_vowel(x),self.head_consonant(x))\n",
    "    \n",
    "# replace all relu layer with Mish        \n",
    "def to_mish(model):\n",
    "    for name,child in model.named_children():\n",
    "        if isinstance(child,nn.ReLU):\n",
    "            setattr(model,name,Mish())\n",
    "        else:\n",
    "            to_mish(child)"
   ]
  },
  {
   "cell_type": "code",
   "execution_count": 11,
   "metadata": {},
   "outputs": [],
   "source": [
    "class Loss_multi_head(nn.Module):\n",
    "    def __init__(self,weights=[1,1,1]):\n",
    "        super().__init__()\n",
    "        self.weights = weights\n",
    "        \n",
    "    def forward(self,preds,target,reduction='mean'):\n",
    "        outp_1,outp_2,outp_3 = preds\n",
    "        outp_1,outp_2,outp_3 = outp_1.float(),outp_2.float(),outp_3.float()\n",
    "        target = target.long()\n",
    "        return (\n",
    "            self.weights[0] * F.cross_entropy(outp_1,target[:,0],reduction=reduction) \n",
    "            + self.weights[1] * F.cross_entropy(outp_2,target[:,1],reduction=reduction) \n",
    "            + self.weights[2] * F.cross_entropy(outp_3,target[:,2],reduction=reduction)\n",
    "               )"
   ]
  },
  {
   "cell_type": "code",
   "execution_count": 12,
   "metadata": {},
   "outputs": [],
   "source": [
    "Metric_grapheme = partial(Metric_idx,0)\n",
    "Metric_vowel = partial(Metric_idx,1)\n",
    "Metric_consonant = partial(Metric_idx,2)"
   ]
  },
  {
   "cell_type": "code",
   "execution_count": 13,
   "metadata": {},
   "outputs": [],
   "source": [
    "model = Resnet_1ch(torch_models.resnet34)"
   ]
  },
  {
   "cell_type": "code",
   "execution_count": 14,
   "metadata": {},
   "outputs": [],
   "source": [
    "loss_func = Loss_multi_head([0.7,0.1,0.2])"
   ]
  },
  {
   "cell_type": "code",
   "execution_count": 15,
   "metadata": {},
   "outputs": [],
   "source": [
    "learn = Learner(data,model,loss_func=loss_func,\n",
    "                metrics=[Metric_grapheme(),Metric_vowel(),Metric_consonant(),Metric_tot()],\n",
    "                model_dir=path/'models/resnet').to_fp16()"
   ]
  },
  {
   "cell_type": "code",
   "execution_count": 16,
   "metadata": {},
   "outputs": [],
   "source": [
    "learn.split(lambda m: (m.body,m.head_grapheme));\n",
    "learn.freeze_to(-1);\n",
    "learn.to_fp16();"
   ]
  },
  {
   "cell_type": "code",
   "execution_count": 17,
   "metadata": {},
   "outputs": [
    {
     "data": {
      "text/html": [],
      "text/plain": [
       "<IPython.core.display.HTML object>"
      ]
     },
     "metadata": {},
     "output_type": "display_data"
    },
    {
     "name": "stdout",
     "output_type": "stream",
     "text": [
      "LR Finder is complete, type {learner_name}.recorder.plot() to see the graph.\n"
     ]
    }
   ],
   "source": [
    "learn.lr_find()"
   ]
  },
  {
   "cell_type": "code",
   "execution_count": 18,
   "metadata": {},
   "outputs": [
    {
     "name": "stdout",
     "output_type": "stream",
     "text": [
      "Min numerical gradient: 1.58E-02\n",
      "Min loss divided by 10: 5.75E-03\n"
     ]
    },
    {
     "data": {
      "image/png": "[encoded data removed]",
      "text/plain": [
       "<Figure size 432x288 with 1 Axes>"
      ]
     },
     "metadata": {
      "needs_background": "light"
     },
     "output_type": "display_data"
    }
   ],
   "source": [
    "learn.recorder.plot(suggestion=True)"
   ]
  },
  {
   "cell_type": "code",
   "execution_count": 23,
   "metadata": {},
   "outputs": [
    {
     "data": {
      "text/html": [
       "<table border=\"1\" class=\"dataframe\">\n",
       "  <thead>\n",
       "    <tr style=\"text-align: left;\">\n",
       "      <th>epoch</th>\n",
       "      <th>train_loss</th>\n",
       "      <th>valid_loss</th>\n",
       "      <th>metric_idx</th>\n",
       "      <th>metric_idx</th>\n",
       "      <th>metric_idx</th>\n",
       "      <th>metric_tot</th>\n",
       "      <th>time</th>\n",
       "    </tr>\n",
       "  </thead>\n",
       "  <tbody>\n",
       "    <tr>\n",
       "      <td>0</td>\n",
       "      <td>0.769080</td>\n",
       "      <td>0.574783</td>\n",
       "      <td>0.652174</td>\n",
       "      <td>0.886448</td>\n",
       "      <td>0.888854</td>\n",
       "      <td>0.769912</td>\n",
       "      <td>12:42</td>\n",
       "    </tr>\n",
       "    <tr>\n",
       "      <td>1</td>\n",
       "      <td>0.432668</td>\n",
       "      <td>0.315473</td>\n",
       "      <td>0.821494</td>\n",
       "      <td>0.944451</td>\n",
       "      <td>0.920218</td>\n",
       "      <td>0.876914</td>\n",
       "      <td>11:59</td>\n",
       "    </tr>\n",
       "    <tr>\n",
       "      <td>2</td>\n",
       "      <td>0.342655</td>\n",
       "      <td>0.259695</td>\n",
       "      <td>0.852584</td>\n",
       "      <td>0.954875</td>\n",
       "      <td>0.932953</td>\n",
       "      <td>0.898249</td>\n",
       "      <td>11:50</td>\n",
       "    </tr>\n",
       "  </tbody>\n",
       "</table>"
      ],
      "text/plain": [
       "<IPython.core.display.HTML object>"
      ]
     },
     "metadata": {},
     "output_type": "display_data"
    }
   ],
   "source": [
    "# lr = 5e-3\n",
    "# learn.fit_one_cycle(3,slice(lr))"
   ]
  },
  {
   "cell_type": "code",
   "execution_count": 19,
   "metadata": {},
   "outputs": [
    {
     "data": {
      "text/html": [
       "<table border=\"1\" class=\"dataframe\">\n",
       "  <thead>\n",
       "    <tr style=\"text-align: left;\">\n",
       "      <th>epoch</th>\n",
       "      <th>train_loss</th>\n",
       "      <th>valid_loss</th>\n",
       "      <th>metric_idx</th>\n",
       "      <th>metric_idx</th>\n",
       "      <th>metric_idx</th>\n",
       "      <th>metric_tot</th>\n",
       "      <th>time</th>\n",
       "    </tr>\n",
       "  </thead>\n",
       "  <tbody>\n",
       "    <tr>\n",
       "      <td>0</td>\n",
       "      <td>0.890026</td>\n",
       "      <td>0.657379</td>\n",
       "      <td>0.678404</td>\n",
       "      <td>0.883748</td>\n",
       "      <td>0.836245</td>\n",
       "      <td>0.769200</td>\n",
       "      <td>10:40</td>\n",
       "    </tr>\n",
       "    <tr>\n",
       "      <td>1</td>\n",
       "      <td>0.492441</td>\n",
       "      <td>0.345086</td>\n",
       "      <td>0.836915</td>\n",
       "      <td>0.943655</td>\n",
       "      <td>0.926079</td>\n",
       "      <td>0.885891</td>\n",
       "      <td>10:39</td>\n",
       "    </tr>\n",
       "    <tr>\n",
       "      <td>2</td>\n",
       "      <td>0.341161</td>\n",
       "      <td>0.281219</td>\n",
       "      <td>0.876801</td>\n",
       "      <td>0.955997</td>\n",
       "      <td>0.943340</td>\n",
       "      <td>0.913235</td>\n",
       "      <td>10:40</td>\n",
       "    </tr>\n",
       "  </tbody>\n",
       "</table>"
      ],
      "text/plain": [
       "<IPython.core.display.HTML object>"
      ]
     },
     "metadata": {},
     "output_type": "display_data"
    }
   ],
   "source": [
    "lr = 5e-3\n",
    "learn.fit_one_cycle(3,slice(lr))"
   ]
  },
  {
   "cell_type": "code",
   "execution_count": 20,
   "metadata": {},
   "outputs": [],
   "source": [
    "learn.save('res34-stage1-weight-712')"
   ]
  },
  {
   "cell_type": "code",
   "execution_count": 21,
   "metadata": {},
   "outputs": [
    {
     "data": {
      "text/html": [],
      "text/plain": [
       "<IPython.core.display.HTML object>"
      ]
     },
     "metadata": {},
     "output_type": "display_data"
    },
    {
     "name": "stdout",
     "output_type": "stream",
     "text": [
      "LR Finder is complete, type {learner_name}.recorder.plot() to see the graph.\n"
     ]
    }
   ],
   "source": [
    "learn.unfreeze()\n",
    "learn.lr_find()"
   ]
  },
  {
   "cell_type": "code",
   "execution_count": 22,
   "metadata": {},
   "outputs": [
    {
     "name": "stdout",
     "output_type": "stream",
     "text": [
      "Min numerical gradient: 3.98E-06\n",
      "Min loss divided by 10: 4.79E-07\n"
     ]
    },
    {
     "data": {
      "image/png": "[encoded data removed]",
      "text/plain": [
       "<Figure size 432x288 with 1 Axes>"
      ]
     },
     "metadata": {
      "needs_background": "light"
     },
     "output_type": "display_data"
    }
   ],
   "source": [
    "learn.recorder.plot(suggestion=True)"
   ]
  },
  {
   "cell_type": "code",
   "execution_count": 27,
   "metadata": {},
   "outputs": [
    {
     "data": {
      "text/html": [
       "<table border=\"1\" class=\"dataframe\">\n",
       "  <thead>\n",
       "    <tr style=\"text-align: left;\">\n",
       "      <th>epoch</th>\n",
       "      <th>train_loss</th>\n",
       "      <th>valid_loss</th>\n",
       "      <th>metric_idx</th>\n",
       "      <th>metric_idx</th>\n",
       "      <th>metric_idx</th>\n",
       "      <th>metric_tot</th>\n",
       "      <th>time</th>\n",
       "    </tr>\n",
       "  </thead>\n",
       "  <tbody>\n",
       "    <tr>\n",
       "      <td>0</td>\n",
       "      <td>0.297876</td>\n",
       "      <td>0.254305</td>\n",
       "      <td>0.857114</td>\n",
       "      <td>0.953790</td>\n",
       "      <td>0.939246</td>\n",
       "      <td>0.901816</td>\n",
       "      <td>14:20</td>\n",
       "    </tr>\n",
       "    <tr>\n",
       "      <td>1</td>\n",
       "      <td>0.289737</td>\n",
       "      <td>0.244437</td>\n",
       "      <td>0.863262</td>\n",
       "      <td>0.955953</td>\n",
       "      <td>0.937331</td>\n",
       "      <td>0.904952</td>\n",
       "      <td>14:33</td>\n",
       "    </tr>\n",
       "    <tr>\n",
       "      <td>2</td>\n",
       "      <td>0.273304</td>\n",
       "      <td>0.232389</td>\n",
       "      <td>0.868604</td>\n",
       "      <td>0.960959</td>\n",
       "      <td>0.945687</td>\n",
       "      <td>0.910964</td>\n",
       "      <td>14:27</td>\n",
       "    </tr>\n",
       "    <tr>\n",
       "      <td>3</td>\n",
       "      <td>0.257595</td>\n",
       "      <td>0.219111</td>\n",
       "      <td>0.880413</td>\n",
       "      <td>0.960959</td>\n",
       "      <td>0.944550</td>\n",
       "      <td>0.916584</td>\n",
       "      <td>14:23</td>\n",
       "    </tr>\n",
       "    <tr>\n",
       "      <td>4</td>\n",
       "      <td>0.219340</td>\n",
       "      <td>0.206611</td>\n",
       "      <td>0.886660</td>\n",
       "      <td>0.962591</td>\n",
       "      <td>0.951043</td>\n",
       "      <td>0.921739</td>\n",
       "      <td>14:23</td>\n",
       "    </tr>\n",
       "    <tr>\n",
       "      <td>5</td>\n",
       "      <td>0.205232</td>\n",
       "      <td>0.199870</td>\n",
       "      <td>0.893281</td>\n",
       "      <td>0.963275</td>\n",
       "      <td>0.948382</td>\n",
       "      <td>0.924555</td>\n",
       "      <td>14:23</td>\n",
       "    </tr>\n",
       "    <tr>\n",
       "      <td>6</td>\n",
       "      <td>0.194985</td>\n",
       "      <td>0.194625</td>\n",
       "      <td>0.897177</td>\n",
       "      <td>0.965339</td>\n",
       "      <td>0.948647</td>\n",
       "      <td>0.927085</td>\n",
       "      <td>14:22</td>\n",
       "    </tr>\n",
       "    <tr>\n",
       "      <td>7</td>\n",
       "      <td>0.180310</td>\n",
       "      <td>0.191070</td>\n",
       "      <td>0.896909</td>\n",
       "      <td>0.966158</td>\n",
       "      <td>0.956085</td>\n",
       "      <td>0.929015</td>\n",
       "      <td>14:20</td>\n",
       "    </tr>\n",
       "    <tr>\n",
       "      <td>8</td>\n",
       "      <td>0.164440</td>\n",
       "      <td>0.188887</td>\n",
       "      <td>0.902974</td>\n",
       "      <td>0.966524</td>\n",
       "      <td>0.948742</td>\n",
       "      <td>0.930304</td>\n",
       "      <td>14:20</td>\n",
       "    </tr>\n",
       "    <tr>\n",
       "      <td>9</td>\n",
       "      <td>0.156238</td>\n",
       "      <td>0.189035</td>\n",
       "      <td>0.899984</td>\n",
       "      <td>0.966511</td>\n",
       "      <td>0.954730</td>\n",
       "      <td>0.930302</td>\n",
       "      <td>14:20</td>\n",
       "    </tr>\n",
       "  </tbody>\n",
       "</table>"
      ],
      "text/plain": [
       "<IPython.core.display.HTML object>"
      ]
     },
     "metadata": {},
     "output_type": "display_data"
    }
   ],
   "source": [
    "# learn.fit_one_cycle(10,slice(1e-6/2,lr/5))"
   ]
  },
  {
   "cell_type": "code",
   "execution_count": 23,
   "metadata": {},
   "outputs": [
    {
     "data": {
      "text/html": [
       "<table border=\"1\" class=\"dataframe\">\n",
       "  <thead>\n",
       "    <tr style=\"text-align: left;\">\n",
       "      <th>epoch</th>\n",
       "      <th>train_loss</th>\n",
       "      <th>valid_loss</th>\n",
       "      <th>metric_idx</th>\n",
       "      <th>metric_idx</th>\n",
       "      <th>metric_idx</th>\n",
       "      <th>metric_tot</th>\n",
       "      <th>time</th>\n",
       "    </tr>\n",
       "  </thead>\n",
       "  <tbody>\n",
       "    <tr>\n",
       "      <td>0</td>\n",
       "      <td>0.317118</td>\n",
       "      <td>0.270335</td>\n",
       "      <td>0.879492</td>\n",
       "      <td>0.957281</td>\n",
       "      <td>0.950476</td>\n",
       "      <td>0.916685</td>\n",
       "      <td>13:12</td>\n",
       "    </tr>\n",
       "    <tr>\n",
       "      <td>1</td>\n",
       "      <td>0.285154</td>\n",
       "      <td>0.248343</td>\n",
       "      <td>0.889867</td>\n",
       "      <td>0.959840</td>\n",
       "      <td>0.941218</td>\n",
       "      <td>0.920198</td>\n",
       "      <td>13:10</td>\n",
       "    </tr>\n",
       "    <tr>\n",
       "      <td>2</td>\n",
       "      <td>0.273177</td>\n",
       "      <td>0.226586</td>\n",
       "      <td>0.898027</td>\n",
       "      <td>0.959028</td>\n",
       "      <td>0.955282</td>\n",
       "      <td>0.927591</td>\n",
       "      <td>13:11</td>\n",
       "    </tr>\n",
       "    <tr>\n",
       "      <td>3</td>\n",
       "      <td>0.234386</td>\n",
       "      <td>0.210849</td>\n",
       "      <td>0.907131</td>\n",
       "      <td>0.961403</td>\n",
       "      <td>0.955206</td>\n",
       "      <td>0.932718</td>\n",
       "      <td>13:07</td>\n",
       "    </tr>\n",
       "    <tr>\n",
       "      <td>4</td>\n",
       "      <td>0.191108</td>\n",
       "      <td>0.195052</td>\n",
       "      <td>0.913447</td>\n",
       "      <td>0.967579</td>\n",
       "      <td>0.957751</td>\n",
       "      <td>0.938056</td>\n",
       "      <td>13:06</td>\n",
       "    </tr>\n",
       "    <tr>\n",
       "      <td>5</td>\n",
       "      <td>0.165866</td>\n",
       "      <td>0.186090</td>\n",
       "      <td>0.919658</td>\n",
       "      <td>0.968590</td>\n",
       "      <td>0.963550</td>\n",
       "      <td>0.942864</td>\n",
       "      <td>13:06</td>\n",
       "    </tr>\n",
       "    <tr>\n",
       "      <td>6</td>\n",
       "      <td>0.152138</td>\n",
       "      <td>0.182373</td>\n",
       "      <td>0.921901</td>\n",
       "      <td>0.968069</td>\n",
       "      <td>0.967486</td>\n",
       "      <td>0.944839</td>\n",
       "      <td>13:07</td>\n",
       "    </tr>\n",
       "    <tr>\n",
       "      <td>7</td>\n",
       "      <td>0.117514</td>\n",
       "      <td>0.179024</td>\n",
       "      <td>0.924455</td>\n",
       "      <td>0.970505</td>\n",
       "      <td>0.966549</td>\n",
       "      <td>0.946491</td>\n",
       "      <td>13:12</td>\n",
       "    </tr>\n",
       "    <tr>\n",
       "      <td>8</td>\n",
       "      <td>0.113998</td>\n",
       "      <td>0.178479</td>\n",
       "      <td>0.924086</td>\n",
       "      <td>0.971992</td>\n",
       "      <td>0.965019</td>\n",
       "      <td>0.946296</td>\n",
       "      <td>13:07</td>\n",
       "    </tr>\n",
       "    <tr>\n",
       "      <td>9</td>\n",
       "      <td>0.109961</td>\n",
       "      <td>0.177174</td>\n",
       "      <td>0.925311</td>\n",
       "      <td>0.972214</td>\n",
       "      <td>0.964652</td>\n",
       "      <td>0.946872</td>\n",
       "      <td>13:07</td>\n",
       "    </tr>\n",
       "  </tbody>\n",
       "</table>"
      ],
      "text/plain": [
       "<IPython.core.display.HTML object>"
      ]
     },
     "metadata": {},
     "output_type": "display_data"
    }
   ],
   "source": [
    "learn.fit_one_cycle(10,slice(1e-5/2,lr/5))"
   ]
  },
  {
   "cell_type": "code",
   "execution_count": 24,
   "metadata": {},
   "outputs": [],
   "source": [
    "learn.save('resnet-stage-2-712')"
   ]
  },
  {
   "cell_type": "code",
   "execution_count": null,
   "metadata": {},
   "outputs": [],
   "source": []
  }
 ],
 "metadata": {
  "kernelspec": {
   "display_name": "Python 3",
   "language": "python",
   "name": "python3"
  },
  "language_info": {
   "codemirror_mode": {
    "name": "ipython",
    "version": 3
   },
   "file_extension": ".py",
   "mimetype": "text/x-python",
   "name": "python",
   "nbconvert_exporter": "python",
   "pygments_lexer": "ipython3",
   "version": "3.7.4"
  }
 },
 "nbformat": 4,
 "nbformat_minor": 2
}
